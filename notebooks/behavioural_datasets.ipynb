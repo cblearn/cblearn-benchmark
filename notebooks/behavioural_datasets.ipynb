{
 "cells": [
  {
   "cell_type": "code",
   "execution_count": 26,
   "id": "b80b4d82",
   "metadata": {},
   "outputs": [],
   "source": [
    "from cblearn import datasets, preprocessing\n",
    "import tqdm\n",
    "import numpy as np\n",
    "\n",
    "\n",
    "DATASETS = {\n",
    "   'car', 'food', 'imagenet-v1', 'imagenet-v2', 'nature', 'material', 'musician', 'vogue', 'things'\n",
    "}\n",
    "\n",
    "\n",
    "def fetch_dataset(dataset, download_if_missing=False):\n",
    "    data_home = '../datasets/download'\n",
    "    match dataset:\n",
    "        case 'car':\n",
    "            data = datasets.fetch_car_similarity(data_home, download_if_missing)\n",
    "            triplets = preprocessing.triplets_from_mostcentral(data.triplet, data.response)\n",
    "        case 'food':\n",
    "            data = datasets.fetch_food_similarity(data_home, download_if_missing)\n",
    "            triplets = data.data\n",
    "        case 'imagenet-v1':\n",
    "            data = datasets.fetch_imagenet_similarity(data_home, download_if_missing)\n",
    "            triplets = preprocessing.triplets_from_multiselect(data.data, data.n_select, is_ranked=data.is_ranked)\n",
    "        case 'imagenet-v2':\n",
    "            data = datasets.fetch_imagenet_similarity(data_home, download_if_missing, version='0.2')\n",
    "            triplets = preprocessing.triplets_from_multiselect(data.data, data.n_select, is_ranked=data.is_ranked)\n",
    "        case 'nature':\n",
    "            data = datasets.fetch_nature_scene_similarity(data_home, download_if_missing)\n",
    "            triplets = data.triplet\n",
    "        case 'material':\n",
    "            data = datasets.fetch_material_similarity(data_home, download_if_missing)\n",
    "            triplets = data.triplet\n",
    "        case 'musician':\n",
    "            data = datasets.fetch_musician_similarity(data_home, download_if_missing)\n",
    "            triplets = data.data\n",
    "        case 'vogue':\n",
    "            data = datasets.fetch_vogue_cover_similarity(data_home, download_if_missing)\n",
    "            triplets = data.triplet\n",
    "        case 'things':\n",
    "            data = datasets.fetch_things_similarity(data_home, download_if_missing)\n",
    "            triplets = preprocessing.triplets_from_oddoneout(data.data)\n",
    "        case other:\n",
    "            raise ValueError(f'Unknown dataset `{dataset}`')\n",
    "    return {\n",
    "        'train_triplets': triplets,\n",
    "        'n_objects': np.amax(triplets)\n",
    "    }\n",
    "            \n",
    "\n",
    "\n",
    "def download_all():\n",
    "    for dataset in (pbar := tqdm.tqdm(DATASETS)):\n",
    "        pbar.set_description(f\"Fetch {dataset} ...\")\n",
    "        data = fetch_dataset(dataset, download_if_missing=True)\n",
    "        if len(data['train_triplets']) < 1:\n",
    "            raise ValueError('Something got wrong.')\n",
    "            \n",
    "\n",
    "def fetch_all():\n",
    "    return {\n",
    "        dataset: fetch_dataset(dataset)\n",
    "        for dataset in DATASETS\n",
    "    }"
   ]
  },
  {
   "cell_type": "code",
   "execution_count": 27,
   "id": "d0f8955f",
   "metadata": {},
   "outputs": [
    {
     "name": "stderr",
     "output_type": "stream",
     "text": [
      "Fetch imagenet-v2 ...: 100%|███████████████████████████████████████████████| 9/9 [00:01<00:00,  5.02it/s]\n"
     ]
    }
   ],
   "source": [
    "download_all()\n",
    "data = fetch_all()\n"
   ]
  },
  {
   "cell_type": "code",
   "execution_count": 42,
   "id": "87800abc",
   "metadata": {},
   "outputs": [
    {
     "data": {
      "text/plain": [
       "9"
      ]
     },
     "execution_count": 42,
     "metadata": {},
     "output_type": "execute_result"
    },
    {
     "data": {
      "image/png": "[encoded data removed]",
      "text/plain": [
       "<Figure size 432x288 with 1 Axes>"
      ]
     },
     "metadata": {
      "needs_background": "light"
     },
     "output_type": "display_data"
    }
   ],
   "source": [
    "import matplotlib.pyplot as plt\n",
    "from adjustText import adjust_text\n",
    "\n",
    "names = data.keys()\n",
    "X = [data[n]['n_objects'] for n in names]\n",
    "Y = [len(data[n]['train_triplets']) for n in names]\n",
    "plt.scatter(X, Y)\n",
    "plt.xlabel('# objects')\n",
    "plt.ylabel('# triplets')\n",
    "plt.yscale('log')\n",
    "plt.xscale('log')\n",
    "labels = [plt.text(x, y, name) for name, x, y in zip(names, X, Y)]\n",
    "adjust_text(labels, expand_points=(1.3, 1.3))  # , arrowprops=dict(arrowstyle='->', color='red')"
   ]
  },
  {
   "cell_type": "code",
   "execution_count": null,
   "id": "d519d4ae",
   "metadata": {},
   "outputs": [],
   "source": []
  }
 ],
 "metadata": {
  "kernelspec": {
   "display_name": "Python 3 (ipykernel)",
   "language": "python",
   "name": "python3"
  },
  "language_info": {
   "codemirror_mode": {
    "name": "ipython",
    "version": 3
   },
   "file_extension": ".py",
   "mimetype": "text/x-python",
   "name": "python",
   "nbconvert_exporter": "python",
   "pygments_lexer": "ipython3",
   "version": "3.10.0"
  }
 },
 "nbformat": 4,
 "nbformat_minor": 5
}
