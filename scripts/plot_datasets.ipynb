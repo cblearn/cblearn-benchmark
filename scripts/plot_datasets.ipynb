{
 "cells": [
  {
   "cell_type": "code",
   "execution_count": null,
   "id": "b80b4d82",
   "metadata": {},
   "outputs": [
    {
     "ename": "",
     "evalue": "",
     "output_type": "error",
     "traceback": [
      "\u001b[1;31mFailed to start the Kernel. \n",
      "\u001b[1;31mThe Jupyter notebook server failed to launch in time. \n",
      "\u001b[1;31mView Jupyter <a href='command:jupyter.viewOutput'>log</a> for further details."
     ]
    }
   ],
   "source": [
    "from adjustText import adjust_text\n",
    "import seaborn as sns\n",
    "import matplotlib.pyplot as plt\n",
    "import numpy as np\n",
    "import pandas as pd\n",
    "\n",
    "import datasets"
   ]
  },
  {
   "cell_type": "code",
   "execution_count": null,
   "id": "d0f8955f",
   "metadata": {},
   "outputs": [
    {
     "ename": "",
     "evalue": "",
     "output_type": "error",
     "traceback": [
      "\u001b[1;31mFailed to start the Kernel. \n",
      "\u001b[1;31mThe Jupyter notebook server failed to launch in time. \n",
      "\u001b[1;31mView Jupyter <a href='command:jupyter.viewOutput'>log</a> for further details."
     ]
    }
   ],
   "source": [
    "data = datasets.fetch_all()\n",
    "data = pd.DataFrame.from_records(data).transpose()\n",
    "data['n_triplets'] = data.train_triplets.map(len)\n",
    "data"
   ]
  },
  {
   "cell_type": "code",
   "execution_count": null,
   "id": "87800abc",
   "metadata": {},
   "outputs": [
    {
     "ename": "",
     "evalue": "",
     "output_type": "error",
     "traceback": [
      "\u001b[1;31mFailed to start the Kernel. \n",
      "\u001b[1;31mThe Jupyter notebook server failed to launch in time. \n",
      "\u001b[1;31mView Jupyter <a href='command:jupyter.viewOutput'>log</a> for further details."
     ]
    }
   ],
   "source": [
    "\n",
    "names = data.index\n",
    "fg = sns.relplot(data, x='n_objects', y='n_triplets', legend=None)\n",
    "fg.set(xlabel='# objects', ylabel='# triplets', xscale='log', yscale='log')\n",
    "\n",
    "obj_space = np.linspace(np.min(data.n_objects), np.max(data.n_objects), 1000)\n",
    "triplet_space = obj_space * np.log2(obj_space)\n",
    "labels = []\n",
    "for d in (2,):\n",
    "    plt.plot(obj_space, d * triplet_space, 'k--', alpha=0.2, zorder=-1)\n",
    "    labels.append(plt.text(obj_space[-500], d * triplet_space[-500], f\"${d}\\cdot n\\cdot \\log_2 n$\", alpha=0.2))\n",
    "\n",
    "labels = labels + [plt.text(x, y, name) for name, x, y in zip(names, data.n_objects, data.n_triplets)]\n",
    "adjust_text(labels, expand_points=(1.3, 1.3))  # , arrowprops=dict(arrowstyle='->', color='red')"
   ]
  },
  {
   "cell_type": "code",
   "execution_count": null,
   "id": "d519d4ae",
   "metadata": {},
   "outputs": [],
   "source": []
  }
 ],
 "metadata": {
  "kernelspec": {
   "display_name": "cblearn",
   "language": "python",
   "name": "python3"
  },
  "language_info": {
   "codemirror_mode": {
    "name": "ipython",
    "version": 3
   },
   "file_extension": ".py",
   "mimetype": "text/x-python",
   "name": "python",
   "nbconvert_exporter": "python",
   "pygments_lexer": "ipython3",
   "version": "3.10.0 (default, Mar  3 2022, 09:58:08) [GCC 7.5.0]"
  },
  "vscode": {
   "interpreter": {
    "hash": "a5ef6b63dcaa482d50681bd3c9d9fb1a2522109b173801c971ec2fb150231113"
   }
  }
 },
 "nbformat": 4,
 "nbformat_minor": 5
}
