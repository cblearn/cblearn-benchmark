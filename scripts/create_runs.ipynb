{
 "cells": [
  {
   "cell_type": "code",
   "execution_count": 12,
   "id": "51c387bc-bee4-4a20-85a6-23e25d080239",
   "metadata": {},
   "outputs": [],
   "source": [
    "from pathlib import Path\n",
    "\n",
    "import datasets"
   ]
  },
  {
   "cell_type": "code",
   "execution_count": 13,
   "id": "33666978-1402-4cb8-ba0a-05a61a0c9fdc",
   "metadata": {},
   "outputs": [],
   "source": [
    "data = datasets.fetch_all()"
   ]
  },
  {
   "cell_type": "code",
   "execution_count": 16,
   "id": "d63470a7-352c-4c33-985e-d00c78a71ea7",
   "metadata": {},
   "outputs": [
    {
     "data": {
      "text/plain": [
       "619"
      ]
     },
     "execution_count": 16,
     "metadata": {},
     "output_type": "execute_result"
    }
   ],
   "source": [
    "runs_dir = Path(datasets.__file__).parent.parent / 'runs'\n",
    "runs_dir.mkdir(exist_ok=True)\n",
    "\n",
    "py = {\n",
    "    'cblearn': ['SOE', 'tSTE', 'STE', 'CKL']  #  , 'GNMDS', 'FORTE' 'SOE-GPU', 'STE-K', etc\n",
    "}\n",
    "\n",
    "\n",
    "py_runs = []\n",
    "for lib, algos in py.items():\n",
    "    for algo in algos:\n",
    "        for d_name, d_data in data.items():\n",
    "            if len(d_data['train_triplets']) < 100_000:  # todo, remove this\n",
    "                py_runs.append(f\"python scripts/embedding.py {algo} {d_name}\")\n",
    "\n",
    "(runs_dir / 'py.sh').write_text('\\n'.join(py_runs))"
   ]
  }
 ],
 "metadata": {
  "kernelspec": {
   "display_name": "Python 3 (ipykernel)",
   "language": "python",
   "name": "python3"
  },
  "language_info": {
   "codemirror_mode": {
    "name": "ipython",
    "version": 3
   },
   "file_extension": ".py",
   "mimetype": "text/x-python",
   "name": "python",
   "nbconvert_exporter": "python",
   "pygments_lexer": "ipython3",
   "version": "3.10.0"
  }
 },
 "nbformat": 4,
 "nbformat_minor": 5
}
