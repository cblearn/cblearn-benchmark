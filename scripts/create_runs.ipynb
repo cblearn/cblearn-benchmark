{
 "cells": [
  {
   "cell_type": "code",
   "execution_count": 1,
   "id": "51c387bc-bee4-4a20-85a6-23e25d080239",
   "metadata": {},
   "outputs": [],
   "source": [
    "from pathlib import Path\n",
    "\n",
    "import datasets"
   ]
  },
  {
   "cell_type": "code",
   "execution_count": 2,
   "id": "33666978-1402-4cb8-ba0a-05a61a0c9fdc",
   "metadata": {},
   "outputs": [],
   "source": [
    "data = datasets.fetch_all()\n",
    "\n",
    "runs_dir = Path(datasets.__file__).parent.parent / 'runs'\n",
    "runs_dir.mkdir(exist_ok=True)"
   ]
  },
  {
   "cell_type": "code",
   "execution_count": 7,
   "id": "d63470a7-352c-4c33-985e-d00c78a71ea7",
   "metadata": {},
   "outputs": [
    {
     "data": {
      "text/plain": [
       "72"
      ]
     },
     "execution_count": 7,
     "metadata": {},
     "output_type": "execute_result"
    }
   ],
   "source": [
    "py = {\n",
    "    'cblearn': ['SOE', 'tSTE', 'STE', 'CKL', 'GNMDS', 'FORTE-GPU', 'SOE-GPU', 'tSTE-GPU']\n",
    "}\n",
    "\n",
    "py_runs = []\n",
    "for lib, algos in py.items():\n",
    "    for algo in algos:\n",
    "        for d_name, d_data in data.items():\n",
    "            #if len(d_data['train_triplets']) < 100_000:  # todo, remove this\n",
    "            py_runs.append(f\"python scripts/embedding.py {algo} {d_name}\")\n",
    "\n",
    "(runs_dir / 'py.sh').write_text('\\n'.join(py_runs))\n",
    "len(py_runs)"
   ]
  },
  {
   "cell_type": "code",
   "execution_count": 8,
   "id": "9d428dec",
   "metadata": {},
   "outputs": [
    {
     "data": {
      "text/plain": [
       "9"
      ]
     },
     "execution_count": 8,
     "metadata": {},
     "output_type": "execute_result"
    }
   ],
   "source": [
    "r = {\n",
    "    'loe': ['SOE']\n",
    "}\n",
    "\n",
    "r_runs = []\n",
    "for lib, algos in r.items():\n",
    "    for algo in algos:\n",
    "        for d_name, d_data in data.items():\n",
    "            r_runs.append(f\"Rscript scripts/embedding.R {algo} {d_name}\")\n",
    "\n",
    "(runs_dir / 'r.sh').write_text('\\n'.join(r_runs))\n",
    "len(r_runs)"
   ]
  },
  {
   "cell_type": "code",
   "execution_count": 10,
   "id": "c02082cb",
   "metadata": {},
   "outputs": [
    {
     "data": {
      "text/plain": [
       "36"
      ]
     },
     "execution_count": 10,
     "metadata": {},
     "output_type": "execute_result"
    }
   ],
   "source": [
    "mat = {\n",
    "    'vanderMaaten': ['STE', 'tSTE', 'CKL', 'GNMDS']\n",
    "}\n",
    "\n",
    "mat_runs = []\n",
    "for lib, algos in mat.items():\n",
    "    for algo in algos:\n",
    "        for d_name, d_data in data.items():\n",
    "            mat_runs.append(f\"matlab -sd scripts/ -batch \\\"embedding('{algo}', '{d_name}');\\\"\")\n",
    "\n",
    "(runs_dir / 'mat.sh').write_text('\\n'.join(mat_runs))\n",
    "len(mat_runs)"
   ]
  },
  {
   "cell_type": "code",
   "execution_count": null,
   "id": "19b2e853",
   "metadata": {},
   "outputs": [],
   "source": []
  }
 ],
 "metadata": {
  "kernelspec": {
   "display_name": "cblearn",
   "language": "python",
   "name": "python3"
  },
  "language_info": {
   "codemirror_mode": {
    "name": "ipython",
    "version": 3
   },
   "file_extension": ".py",
   "mimetype": "text/x-python",
   "name": "python",
   "nbconvert_exporter": "python",
   "pygments_lexer": "ipython3",
   "version": "3.10.0"
  },
  "vscode": {
   "interpreter": {
    "hash": "a5ef6b63dcaa482d50681bd3c9d9fb1a2522109b173801c971ec2fb150231113"
   }
  }
 },
 "nbformat": 4,
 "nbformat_minor": 5
}
