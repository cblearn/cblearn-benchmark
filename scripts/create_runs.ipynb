{
 "cells": [
  {
   "cell_type": "code",
   "execution_count": 1,
   "id": "51c387bc-bee4-4a20-85a6-23e25d080239",
   "metadata": {},
   "outputs": [],
   "source": [
    "from pathlib import Path\n",
    "\n",
    "import datasets"
   ]
  },
  {
   "cell_type": "code",
   "execution_count": 2,
   "id": "33666978-1402-4cb8-ba0a-05a61a0c9fdc",
   "metadata": {},
   "outputs": [],
   "source": [
    "data = datasets.fetch_all()"
   ]
  },
  {
   "cell_type": "code",
   "execution_count": 3,
   "id": "d63470a7-352c-4c33-985e-d00c78a71ea7",
   "metadata": {},
   "outputs": [
    {
     "data": {
      "text/plain": [
       "3033"
      ]
     },
     "execution_count": 3,
     "metadata": {},
     "output_type": "execute_result"
    }
   ],
   "source": [
    "runs_dir = Path(datasets.__file__).parent.parent / 'runs'\n",
    "runs_dir.mkdir(exist_ok=True)\n",
    "\n",
    "py = {\n",
    "    'cblearn': ['SOE', 'tSTE', 'STE', 'CKL', 'GNMDS', 'FORTE-GPU', 'SOE-GPU', 'tSTE-GPU']\n",
    "}\n",
    "\n",
    "\n",
    "py_runs = []\n",
    "for lib, algos in py.items():\n",
    "    for algo in algos:\n",
    "        for d_name, d_data in data.items():\n",
    "            #if len(d_data['train_triplets']) < 100_000:  # todo, remove this\n",
    "            py_runs.append(f\"python scripts/embedding.py {algo} {d_name}\")\n",
    "\n",
    "(runs_dir / 'py.sh').write_text('\\n'.join(py_runs))"
   ]
  },
  {
   "cell_type": "code",
   "execution_count": null,
   "id": "c02082cb",
   "metadata": {},
   "outputs": [],
   "source": []
  }
 ],
 "metadata": {
  "kernelspec": {
   "display_name": "cblearn",
   "language": "python",
   "name": "python3"
  },
  "language_info": {
   "codemirror_mode": {
    "name": "ipython",
    "version": 3
   },
   "file_extension": ".py",
   "mimetype": "text/x-python",
   "name": "python",
   "nbconvert_exporter": "python",
   "pygments_lexer": "ipython3",
   "version": "3.10.0 | packaged by conda-forge | (default, Nov 20 2021, 02:24:10) [GCC 9.4.0]"
  },
  "vscode": {
   "interpreter": {
    "hash": "a5ef6b63dcaa482d50681bd3c9d9fb1a2522109b173801c971ec2fb150231113"
   }
  }
 },
 "nbformat": 4,
 "nbformat_minor": 5
}
